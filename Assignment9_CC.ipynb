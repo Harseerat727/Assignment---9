{
 "cells": [
  {
   "cell_type": "code",
   "execution_count": 2,
   "id": "165d93ff-4f23-4c49-9bea-a466c48d3e22",
   "metadata": {},
   "outputs": [
    {
     "name": "stderr",
     "output_type": "stream",
     "text": [
      "[nltk_data] Downloading package punkt to\n",
      "[nltk_data]     C:\\Users\\harse\\AppData\\Roaming\\nltk_data...\n",
      "[nltk_data]   Package punkt is already up-to-date!\n",
      "[nltk_data] Downloading package stopwords to\n",
      "[nltk_data]     C:\\Users\\harse\\AppData\\Roaming\\nltk_data...\n",
      "[nltk_data]   Package stopwords is already up-to-date!\n",
      "[nltk_data] Downloading package wordnet to\n",
      "[nltk_data]     C:\\Users\\harse\\AppData\\Roaming\\nltk_data...\n",
      "[nltk_data]   Package wordnet is already up-to-date!\n",
      "[nltk_data] Downloading package punkt_tab to\n",
      "[nltk_data]     C:\\Users\\harse\\AppData\\Roaming\\nltk_data...\n",
      "[nltk_data]   Package punkt_tab is already up-to-date!\n"
     ]
    },
    {
     "data": {
      "text/plain": [
       "True"
      ]
     },
     "execution_count": 2,
     "metadata": {},
     "output_type": "execute_result"
    }
   ],
   "source": [
    "import nltk\n",
    "import re\n",
    "import string\n",
    "from nltk.tokenize import word_tokenize, sent_tokenize\n",
    "from nltk.corpus import stopwords\n",
    "from nltk.stem import PorterStemmer, LancasterStemmer, WordNetLemmatizer\n",
    "from nltk import FreqDist\n",
    "\n",
    "nltk.download('punkt')\n",
    "nltk.download('stopwords')\n",
    "nltk.download('wordnet')\n",
    "nltk.download('punkt_tab')"
   ]
  },
  {
   "cell_type": "code",
   "execution_count": 4,
   "id": "bf742d42-8365-4ac1-95ae-5f9c51d6f724",
   "metadata": {},
   "outputs": [
    {
     "name": "stdout",
     "output_type": "stream",
     "text": [
      "Cleaned Text :  text preprocessing is the initial step in any nlp task where raw text is cleaned and prepared for analysis this helps in reducing noise and better model performance\n"
     ]
    }
   ],
   "source": [
    "import string\n",
    "text = \"Text Preprocessing is the initial step in any NLP task where raw text is cleaned and prepared for analysis. This helps in reducing noise and better model performance.\"\n",
    "text_lower = text.lower()\n",
    "text_clean = text_lower.translate(str.maketrans('','', string.punctuation))\n",
    "print(\"Cleaned Text : \", text_clean)"
   ]
  },
  {
   "cell_type": "code",
   "execution_count": 8,
   "id": "5018c79a-0553-45e0-b9e0-151b81d2dddf",
   "metadata": {},
   "outputs": [
    {
     "name": "stdout",
     "output_type": "stream",
     "text": [
      "Word Tokens:  ['text', 'preprocessing', 'is', 'the', 'initial', 'step', 'in', 'any', 'nlp', 'task', 'where', 'raw', 'text', 'is', 'cleaned', 'and', 'prepared', 'for', 'analysis', 'this', 'helps', 'in', 'reducing', 'noise', 'and', 'better', 'model', 'performance']\n",
      "Sentence Tokens:  ['Text Preprocessing is the initial step in any NLP task where raw text is cleaned and prepared for analysis.', 'This helps in reducing noise and better model performance.']\n",
      "Filtered Words: ['text', 'preprocessing', 'initial', 'step', 'nlp', 'task', 'raw', 'text', 'cleaned', 'prepared', 'analysis', 'helps', 'reducing', 'noise', 'better', 'model', 'performance']\n"
     ]
    },
    {
     "data": {
      "text/plain": [
       "<Axes: title={'center': 'Top Words'}, xlabel='Samples', ylabel='Counts'>"
      ]
     },
     "execution_count": 8,
     "metadata": {},
     "output_type": "execute_result"
    },
    {
     "data": {
      "image/png": "[encoded data removed]",
      "text/plain": [
       "<Figure size 640x480 with 1 Axes>"
      ]
     },
     "metadata": {},
     "output_type": "display_data"
    }
   ],
   "source": [
    "from nltk.tokenize import word_tokenize, sent_tokenize\n",
    "from nltk.corpus import stopwords \n",
    "from nltk import FreqDist\n",
    "\n",
    "word_tokens = word_tokenize(text_clean)\n",
    "sent_tokens = sent_tokenize(text)\n",
    "print(\"Word Tokens: \", word_tokens)\n",
    "print(\"Sentence Tokens: \", sent_tokens)\n",
    "stop_words = set(stopwords.words('english'))\n",
    "filtered_words = [w for w in word_tokens if w.lower() not in stop_words]\n",
    "print(\"Filtered Words:\" ,filtered_words) \n",
    "fd = FreqDist(filtered_words)\n",
    "fd.plot(10, title=\"Top Words\")"
   ]
  },
  {
   "cell_type": "code",
   "execution_count": 10,
   "id": "ad4152b4-df25-4f2a-8ef7-6b1b1818fda3",
   "metadata": {},
   "outputs": [
    {
     "name": "stdout",
     "output_type": "stream",
     "text": [
      "text -> Stemmed : text, Lemmatized: text\n",
      "preprocessing -> Stemmed : preprocess, Lemmatized: preprocessing\n",
      "initial -> Stemmed : initi, Lemmatized: initial\n",
      "step -> Stemmed : step, Lemmatized: step\n",
      "nlp -> Stemmed : nlp, Lemmatized: nlp\n",
      "task -> Stemmed : task, Lemmatized: task\n",
      "raw -> Stemmed : raw, Lemmatized: raw\n",
      "text -> Stemmed : text, Lemmatized: text\n",
      "cleaned -> Stemmed : clean, Lemmatized: cleaned\n",
      "prepared -> Stemmed : prepar, Lemmatized: prepared\n",
      "analysis -> Stemmed : analysi, Lemmatized: analysis\n",
      "helps -> Stemmed : help, Lemmatized: help\n",
      "reducing -> Stemmed : reduc, Lemmatized: reducing\n",
      "noise -> Stemmed : nois, Lemmatized: noise\n",
      "better -> Stemmed : better, Lemmatized: better\n",
      "model -> Stemmed : model, Lemmatized: model\n",
      "performance -> Stemmed : perform, Lemmatized: performance\n"
     ]
    }
   ],
   "source": [
    "from nltk.stem import PorterStemmer, WordNetLemmatizer\n",
    "ps = PorterStemmer()\n",
    "lm = WordNetLemmatizer()\n",
    "\n",
    "for word in filtered_words:\n",
    "    print(f\"{word} -> Stemmed : {ps.stem(word)}, Lemmatized: {lm.lemmatize(word)}\")\n"
   ]
  },
  {
   "cell_type": "code",
   "execution_count": 12,
   "id": "4b96cbae-6010-44ca-8eb7-43eb4a7afb98",
   "metadata": {},
   "outputs": [],
   "source": [
    "import re\n",
    "\n",
    "text = \"You can reach me at abc@example.com or cal me at +91 9871237590. \"\n",
    "\n",
    "email_pattern = r'\\b[A-Za-z0-9._%+-]+@[A-Za-z0-9.-]+\\.[A-Z|a-z]{2,}\\b'\n",
    "text = re.sub(email_pattern, '<EMAIL>', text)\n",
    "\n",
    "url_pattern = r'https?://[^\\s]+'\n",
    "text = re.sub(url_pattern, '<URL>', text)\n",
    "\n",
    "phone_pattern = r'(\\+?\\d{1,2}\\s?)?(\\(?\\d{3}\\)?[\\s\\-]?)?\\d{3}[\\s\\-]?\\d{4}'\n",
    "text = re.sub(phone_pattern, '<PHONE>', text)"
   ]
  },
  {
   "cell_type": "code",
   "execution_count": 14,
   "id": "5d2e0250-ffdf-4960-a588-9944c63c8740",
   "metadata": {},
   "outputs": [
    {
     "name": "stdout",
     "output_type": "stream",
     "text": [
      "Words with more than 5 letters: ['Preprocessing', 'initial', 'cleaned', 'prepared', 'analysis', 'reducing', 'better', 'performance']\n",
      "Numbers in the text: []\n",
      "Capitalized words: ['Text', 'Preprocessing', 'This']\n",
      "Words with only alphabets: ['Text', 'Preprocessing', 'is', 'the', 'initial', 'step', 'in', 'any', 'NLP', 'task', 'where', 'raw', 'text', 'is', 'cleaned', 'and', 'prepared', 'for', 'analysis', 'This', 'helps', 'in', 'reducing', 'noise', 'and', 'better', 'model', 'performance']\n",
      "Words starting with a vowel: ['is', 'initial', 'in', 'any', 'is', 'and', 'analysis', 'in', 'and']\n"
     ]
    }
   ],
   "source": [
    "text = \"Text Preprocessing is the initial step in any NLP task where raw text is cleaned and prepared for analysis. This helps in reducing noise and better model performance.\"\n",
    "\n",
    "long_words = re.findall(r'\\b\\w{6,}\\b', text)\n",
    "print(\"Words with more than 5 letters:\", long_words)\n",
    "numbers = re.findall(r'\\b\\d+\\b', text)\n",
    "print(\"Numbers in the text:\", numbers)\n",
    "capitalized_words = re.findall(r'\\b[A-Z][a-z]*\\b', text)\n",
    "print(\"Capitalized words:\", capitalized_words)\n",
    "\n",
    "words = re.findall(r'[a-zA-Z]+', text)\n",
    "print(\"Words with only alphabets:\", words)\n",
    "vowel_words = re.findall(r'\\b[aeiouAEIOU][a-zA-Z]*\\b', text)\n",
    "print(\"Words starting with a vowel:\", vowel_words)"
   ]
  },
  {
   "cell_type": "code",
   "execution_count": 18,
   "id": "1906841f-b2b3-4875-80b5-deb36a0cb116",
   "metadata": {},
   "outputs": [],
   "source": [
    "import re\n",
    "text = \"\"\"\n",
    "You can reach me at john.doe@example.com or visit my website at https://www.example.com.\n",
    "My phone number is 123-456-7890 and you can also contact me at +91 9876543210.\n",
    "Isn't this a state-of-the-art system? It costs 3.14 dollars.\n",
    "\"\"\"\n",
    "\n",
    "def custom_tokenizer(text):\n",
    "    # Regex pattern explanation:\n",
    "    # 1. Decimal numbers (\\d+\\.\\d+)\n",
    "    # 2. Whole numbers (\\d+)\n",
    "    # 3. Hyphenated words (state-of-the-art)\n",
    "    # 4. Words with contractions (isn't, you're)\n",
    "    # 5. Regular words\n",
    "\n",
    "    pattern = r\"\"\"\n",
    "        \\d+\\.\\d+              | # decimal numbers\n",
    "        \\d+                   | # integers\n",
    "        \\b\\w+(?:-\\w+)+\\b      | # hyphenated words\n",
    "        \\b\\w+'(?:\\w+)?\\b      | # contractions like isn't, you're\n",
    "        \\b\\w+\\b                 # normal words\n",
    "    \"\"\"\n",
    "\n",
    "    # Find all matches\n",
    "    tokens = re.findall(pattern, text, re.VERBOSE)\n",
    "\n",
    "    return tokens\n"
   ]
  },
  {
   "cell_type": "code",
   "execution_count": null,
   "id": "e0701ec3-fd47-4459-acee-a8410d9123cc",
   "metadata": {},
   "outputs": [],
   "source": []
  }
 ],
 "metadata": {
  "kernelspec": {
   "display_name": "Python 3 (ipykernel)",
   "language": "python",
   "name": "python3"
  },
  "language_info": {
   "codemirror_mode": {
    "name": "ipython",
    "version": 3
   },
   "file_extension": ".py",
   "mimetype": "text/x-python",
   "name": "python",
   "nbconvert_exporter": "python",
   "pygments_lexer": "ipython3",
   "version": "3.13.1"
  }
 },
 "nbformat": 4,
 "nbformat_minor": 5
}
